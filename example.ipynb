{
 "cells": [
  {
   "cell_type": "code",
   "execution_count": 1,
   "metadata": {},
   "outputs": [
    {
     "name": "stdout",
     "output_type": "stream",
     "text": [
      "SIPPY could not be loaded\n"
     ]
    }
   ],
   "source": [
    "import os\n",
    "import numpy as np\n",
    "import torch.nn.functional as F\n",
    "import torch\n",
    "\n",
    "from simba.model import Simba\n",
    "from simba.util import fix_seed\n",
    "\n",
    "from simba.parameters import base_parameters, baselines_to_use\n",
    "parameters = base_parameters"
   ]
  },
  {
   "cell_type": "code",
   "execution_count": 2,
   "metadata": {},
   "outputs": [],
   "source": [
    "# Parameters\n",
    "seed = 1\n",
    "parameters['init_from_matlab_or_ls'] = True\n",
    "parameters['max_epochs'] = 10000\n",
    "parameters['init_epochs'] = 150000\n",
    "parameters['print_each'] = 1000\n",
    "\n",
    "# Simulation\n",
    "dt = 1228.8\n",
    "path_to_matlab = parameters['path_to_matlab']\n",
    "directory = os.path.join('saves', f'Daisy_init_new_{seed}')\n",
    "fix_seed(seed)"
   ]
  },
  {
   "cell_type": "code",
   "execution_count": 3,
   "metadata": {},
   "outputs": [
    {
     "name": "stdout",
     "output_type": "stream",
     "text": [
      "(1, 100, 5) (1, 100, 3) (1, 150, 5) (1, 150, 3) (1, 50, 5)\n"
     ]
    }
   ],
   "source": [
    "# Load and process data as in \n",
    "# https://homes.esat.kuleuven.be/~smc/daisy/daisydata.html\n",
    "\n",
    "data = np.genfromtxt('data/powerplant.dat')\n",
    "U = data[:,1:6]\n",
    "Y = data[:,6:9]\n",
    "Yr = data[:,9:12]\n",
    "\n",
    "nu = U.shape[1]\n",
    "ny = Y.shape[1]\n",
    "H = Y.shape[0]\n",
    "\n",
    "U = U.reshape(-1, H, nu)\n",
    "Y = Y.reshape(-1, H, ny)\n",
    "\n",
    "# Normalize\n",
    "um = np.mean(U, axis=1, keepdims=True)\n",
    "us = np.std(U, axis=1, keepdims=True)\n",
    "U = (U - um) / us\n",
    "\n",
    "ym = np.mean(Y, axis=1, keepdims=True)\n",
    "ys = np.std(Y, axis=1, keepdims=True)\n",
    "Y = (Y - ym) / ys\n",
    "\n",
    "# Define everything\n",
    "X = X_val = X_test = None\n",
    "U_val = U[:,:150,:].copy()\n",
    "Y_val = Y[:,:150,:].copy()\n",
    "U_test = U[:,150:,:].copy()\n",
    "Y_test = Y[:,150:,:].copy()\n",
    "U = U[:,:100,:]\n",
    "Y = Y[:,:100,:]\n",
    "\n",
    "print(U.shape, Y.shape, U_val.shape, Y_val.shape, U_test.shape)"
   ]
  },
  {
   "cell_type": "code",
   "execution_count": 4,
   "metadata": {},
   "outputs": [],
   "source": [
    "from simba.util import check_and_initialize_data\n",
    "\n",
    "# SIMBa\n",
    "# Standard parameters\n",
    "parameters['ms_horizon'] = None # No multiple shooting\n",
    "parameters['base_lambda'] = 1\n",
    "\n",
    "# Tunable parameters\n",
    "parameters['learning_rate'] = 0.001\n",
    "parameters['grad_clip'] = 100\n",
    "parameters['train_loss'] = F.mse_loss\n",
    "parameters['val_loss'] = F.mse_loss\n",
    "parameters['dropout'] = 0\n",
    "parameters['device'] = 'cpu'\n",
    "\n",
    "parameters['batch_size'] = 128\n",
    "parameters['horizon'] = None        # Prediction horizon of SIMBa\n",
    "parameters['stride'] = 1          # Lag between two time steps to start predicting from\n",
    "parameters['horizon_val'] = None  # None means entire trajectories\n",
    "parameters['stride_val'] = 1\n",
    "\n",
    "# Identify the state only\n",
    "parameters['id_D'] = True\n",
    "parameters['input_output'] = True\n",
    "parameters['learn_x0'] = True\n",
    "\n",
    "# Enforce stability\n",
    "parameters['stable_A'] = True\n",
    "parameters['LMI_A'] = True\n",
    "\n",
    "parameters['delta'] = None\n",
    "\n",
    "# Evaluate classical sysID baselines\n",
    "baselines_to_use['parsim_s'] = False # Fails for some reason?\n",
    "baselines_to_use['parsim_p'] = False # Fails for some reason?\n",
    "\n",
    "x0 = x0_val = x0_test = np.zeros((1,1,2))\n",
    "U, U_val, U_test, X, X_val, X_test, Y, Y_val, Y_test, x0, x0_val, x0_test = check_and_initialize_data(U, U_val, U_test, X, X_val, X_test, Y, Y_val, Y_test, x0, x0_val, x0_test,\n",
    "                                                                                                            verbose=parameters['verbose'], autonomous=parameters['autonomous'], \n",
    "                                                                                                            input_output=parameters['input_output'], device=parameters['device'])"
   ]
  },
  {
   "cell_type": "code",
   "execution_count": 5,
   "metadata": {},
   "outputs": [
    {
     "name": "stdout",
     "output_type": "stream",
     "text": [
      "\n",
      "Initilization starts, fitting A!\n",
      "Epoch\tFitting loss\n",
      "1\t5.72E-01\n",
      "50000\t3.10E-05\n",
      "100000\t2.05E-06\n",
      "150000\t1.50E-06\n",
      "Total initialization time:\t22\"\n",
      "Best loss at epoch 112074:\t1.40E-08\n",
      "\n",
      "Matlab performance (Train and validation are only measured on the\n",
      "first trajectory if there are several for now):\n",
      "Train loss\tVal loss\tTest loss\n",
      "5.59E-02\t1.10E-01\t1.09E+00\n",
      "\n",
      "Training of SIMBa starts!\n",
      "Training data shape:\t(1, 100, *)\n",
      "Validation data shape:\t(1, 150, *)\n",
      "Test data shape:\t(1, 50, *)\n",
      "\n",
      "Epoch\tTrain loss\tVal loss\tTest loss\n",
      "1\t5.66E-02\t1.08E-01\t1.12E+00\n",
      "1000\t1.80E-02\t4.05E-02\t3.03E-01\n",
      "2000\t1.76E-02\t3.98E-02\t2.31E-01\n",
      "3000\t1.75E-02\t4.11E-02\t2.37E-01\n",
      "4000\t1.75E-02\t4.16E-02\t2.44E-01\n",
      "5000\t1.75E-02\t4.19E-02\t2.46E-01\n",
      "6000\t1.75E-02\t4.20E-02\t2.47E-01\n",
      "7000\t1.75E-02\t4.20E-02\t2.47E-01\n",
      "8000\t1.75E-02\t4.20E-02\t2.47E-01\n",
      "9000\t1.75E-02\t4.20E-02\t2.47E-01\n",
      "10000\t1.75E-02\t4.20E-02\t2.47E-01\n",
      "\n",
      "Average time per 100 epochs:\t00\"\n",
      "Total training time:\t\t01'33\"\n",
      "\n",
      "Best model performance:\n",
      "1559\t1.78E-02\t3.89E-02\t2.50E-01\n"
     ]
    }
   ],
   "source": [
    "# Fit a state-space model with nx = 2\n",
    "nx = 2\n",
    "x0 = x0_val = x0_test = torch.zeros((1,1,nx))\n",
    "\n",
    "name = f'SIMBa_{nx}'\n",
    "simba = Simba(nx=nx, nu=nu, ny=ny, parameters=parameters)\n",
    "simba.fit(U, U_val=U_val, U_test=U_test, X=X, X_val=X_val, X_test=X_test, Y=Y, Y_val=Y_val, Y_test=Y_test, x0=x0, x0_val=x0_val, x0_test=x0_test, baselines_to_use=baselines_to_use)\n",
    "simba.save(directory=directory, save_name=name)\n"
   ]
  },
  {
   "cell_type": "code",
   "execution_count": null,
   "metadata": {},
   "outputs": [],
   "source": []
  },
  {
   "cell_type": "code",
   "execution_count": null,
   "metadata": {},
   "outputs": [],
   "source": []
  }
 ],
 "metadata": {
  "kernelspec": {
   "display_name": "simbapy-wfmUEgt7-py3.12",
   "language": "python",
   "name": "python3"
  },
  "language_info": {
   "codemirror_mode": {
    "name": "ipython",
    "version": 3
   },
   "file_extension": ".py",
   "mimetype": "text/x-python",
   "name": "python",
   "nbconvert_exporter": "python",
   "pygments_lexer": "ipython3",
   "version": "3.12.4"
  },
  "orig_nbformat": 4
 },
 "nbformat": 4,
 "nbformat_minor": 2
}
