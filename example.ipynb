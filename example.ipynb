{
 "cells": [
  {
   "cell_type": "code",
   "execution_count": null,
   "metadata": {},
   "outputs": [],
   "source": [
    "import os\n",
    "import numpy as np\n",
    "import torch.nn.functional as F\n",
    "import torch\n",
    "\n",
    "from simba.model import Simba\n",
    "from simba.util import fix_seed\n",
    "\n",
    "from simba.parameters import base_parameters, baselines_to_use\n",
    "parameters = base_parameters"
   ]
  },
  {
   "cell_type": "code",
   "execution_count": null,
   "metadata": {},
   "outputs": [],
   "source": [
    "# Parameters\n",
    "seed = 1\n",
    "parameters['init_from_matlab_or_ls'] = True\n",
    "parameters['max_epochs'] = 10000\n",
    "parameters['init_epochs'] = 150000\n",
    "parameters['print_each'] = 1000\n",
    "\n",
    "# Simulation\n",
    "dt = 1228.8\n",
    "path_to_matlab = parameters['path_to_matlab']\n",
    "directory = os.path.join('saves', f'Daisy_init_new_{seed}')\n",
    "fix_seed(seed)"
   ]
  },
  {
   "cell_type": "code",
   "execution_count": null,
   "metadata": {},
   "outputs": [],
   "source": [
    "# Load and process data as in \n",
    "# https://homes.esat.kuleuven.be/~smc/daisy/daisydata.html\n",
    "\n",
    "data = np.genfromtxt('data/powerplant.dat')\n",
    "U = data[:,1:6]\n",
    "Y = data[:,6:9]\n",
    "Yr = data[:,9:12]\n",
    "\n",
    "nu = U.shape[1]\n",
    "ny = Y.shape[1]\n",
    "H = Y.shape[0]\n",
    "\n",
    "U = U.reshape(-1, H, nu)\n",
    "Y = Y.reshape(-1, H, ny)\n",
    "\n",
    "# Normalize\n",
    "um = np.mean(U, axis=1, keepdims=True)\n",
    "us = np.std(U, axis=1, keepdims=True)\n",
    "U = (U - um) / us\n",
    "\n",
    "ym = np.mean(Y, axis=1, keepdims=True)\n",
    "ys = np.std(Y, axis=1, keepdims=True)\n",
    "Y = (Y - ym) / ys\n",
    "\n",
    "# Define everything\n",
    "X = X_val = X_test = None\n",
    "U_val = U[:,:150,:].copy()\n",
    "Y_val = Y[:,:150,:].copy()\n",
    "U_test = U[:,150:,:].copy()\n",
    "Y_test = Y[:,150:,:].copy()\n",
    "U = U[:,:100,:]\n",
    "Y = Y[:,:100,:]\n",
    "\n",
    "print(U.shape, Y.shape, U_val.shape, Y_val.shape, U_test.shape)"
   ]
  },
  {
   "cell_type": "code",
   "execution_count": null,
   "metadata": {},
   "outputs": [],
   "source": [
    "from simba.util import check_and_initialize_data\n",
    "\n",
    "# SIMBa\n",
    "# Standard parameters\n",
    "parameters['ms_horizon'] = None # No multiple shooting\n",
    "parameters['base_lambda'] = 1\n",
    "\n",
    "# Tunable parameters\n",
    "parameters['learning_rate'] = 0.001\n",
    "parameters['grad_clip'] = 100\n",
    "parameters['train_loss'] = F.mse_loss\n",
    "parameters['val_loss'] = F.mse_loss\n",
    "parameters['dropout'] = 0\n",
    "parameters['device'] = 'cpu'\n",
    "\n",
    "parameters['batch_size'] = 128\n",
    "parameters['horizon'] = None        # Prediction horizon of SIMBa\n",
    "parameters['stride'] = 1          # Lag between two time steps to start predicting from\n",
    "parameters['horizon_val'] = None  # None means entire trajectories\n",
    "parameters['stride_val'] = 1\n",
    "\n",
    "# Identify the state only\n",
    "parameters['id_D'] = True\n",
    "parameters['input_output'] = True\n",
    "parameters['learn_x0'] = True\n",
    "\n",
    "# Enforce stability\n",
    "parameters['stable_A'] = True\n",
    "parameters['LMI_A'] = True\n",
    "\n",
    "parameters['delta'] = None\n",
    "\n",
    "# Evaluate classical sysID baselines\n",
    "baselines_to_use['parsim_s'] = False # Fails for some reason?\n",
    "baselines_to_use['parsim_p'] = False # Fails for some reason?\n",
    "\n",
    "x0 = x0_val = x0_test = np.zeros((1,1,2))\n",
    "U, U_val, U_test, X, X_val, X_test, Y, Y_val, Y_test, x0, x0_val, x0_test = check_and_initialize_data(U, U_val, U_test, X, X_val, X_test, Y, Y_val, Y_test, x0, x0_val, x0_test,\n",
    "                                                                                                            verbose=parameters['verbose'], autonomous=parameters['autonomous'], \n",
    "                                                                                                            input_output=parameters['input_output'], device=parameters['device'])"
   ]
  },
  {
   "cell_type": "code",
   "execution_count": null,
   "metadata": {},
   "outputs": [],
   "source": [
    "# Fit a state-space model with nx = 2\n",
    "nx = 2\n",
    "x0 = x0_val = x0_test = torch.zeros((1,1,nx))\n",
    "\n",
    "name = f'SIMBa_{nx}'\n",
    "simba = Simba(nx=nx, nu=nu, ny=ny, parameters=parameters)\n",
    "simba.fit(U, U_val=U_val, U_test=U_test, X=X, X_val=X_val, X_test=X_test, Y=Y, Y_val=Y_val, Y_test=Y_test, x0=x0, x0_val=x0_val, x0_test=x0_test, baselines_to_use=baselines_to_use)\n",
    "simba.save(directory=directory, save_name=name)\n"
   ]
  },
  {
   "cell_type": "code",
   "execution_count": null,
   "metadata": {},
   "outputs": [],
   "source": []
  }
 ],
 "metadata": {
  "kernelspec": {
   "display_name": ".venv",
   "language": "python",
   "name": "python3"
  },
  "language_info": {
   "codemirror_mode": {
    "name": "ipython",
    "version": 3
   },
   "file_extension": ".py",
   "mimetype": "text/x-python",
   "name": "python",
   "nbconvert_exporter": "python",
   "pygments_lexer": "ipython3",
   "version": "3.9.2"
  },
  "orig_nbformat": 4,
  "vscode": {
   "interpreter": {
    "hash": "f1e4cd141c13f1df1f7683d2f70318375c7135c0fdb756c762a3eb3e7d52ef2e"
   }
  }
 },
 "nbformat": 4,
 "nbformat_minor": 2
}
